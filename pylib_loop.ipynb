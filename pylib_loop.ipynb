{
 "cells": [
  {
   "cell_type": "code",
   "execution_count": null,
   "metadata": {
    "collapsed": true
   },
   "outputs": [],
   "source": [
    "################   ループ   #####################\n",
    "# for [変数名] in [イテラブル]:\n",
    "#     [コードブロック]"
   ]
  },
  {
   "cell_type": "code",
   "execution_count": 1,
   "metadata": {},
   "outputs": [
    {
     "name": "stdout",
     "output_type": "stream",
     "text": [
      "T\n",
      "e\n",
      "d\n"
     ]
    }
   ],
   "source": [
    "# 文字列を1文字ずつループで表示\n",
    "name = \"Ted\"\n",
    "for character in name:\n",
    "    print(character)"
   ]
  },
  {
   "cell_type": "code",
   "execution_count": 2,
   "metadata": {},
   "outputs": [
    {
     "name": "stdout",
     "output_type": "stream",
     "text": [
      "GOT\n",
      "Nacros\n",
      "Vice\n"
     ]
    }
   ],
   "source": [
    "# リストの要素をループで表示\n",
    "shows = [\"GOT\", \"Nacros\", \"Vice\"]\n",
    "for show in shows:\n",
    "    print(show)"
   ]
  },
  {
   "cell_type": "code",
   "execution_count": 7,
   "metadata": {},
   "outputs": [
    {
     "name": "stdout",
     "output_type": "stream",
     "text": [
      "キー'G. Bluth II'に対応する値は'A. Development'です。\n",
      "キー'Barney'に対応する値は'HIMYM'です。\n",
      "キー'Dennis'に対応する値は'Always Sunny'です。\n"
     ]
    }
   ],
   "source": [
    "# 辞書の値をキーを元に順番に表示\n",
    "people = {\n",
    "    \"G. Bluth II\": \"A. Development\",\n",
    "    \"Barney\": \"HIMYM\",\n",
    "    \"Dennis\": \"Always Sunny\"\n",
    "}\n",
    "for c in people:\n",
    "    print(\"キー\\'{}\\'に対応する値は\\'{}\\'です。\".format(c, people[c]))\n"
   ]
  },
  {
   "cell_type": "code",
   "execution_count": 12,
   "metadata": {},
   "outputs": [
    {
     "name": "stdout",
     "output_type": "stream",
     "text": [
      "['GOT', 'NACROS', 'VICE']\n"
     ]
    }
   ],
   "source": [
    "# ループ内でリストの値を更新\n",
    "\n",
    "tv = [\"GOT\", \"Narcos\", \"Vice\"]\n",
    "i = 0\n",
    "for new in tv:\n",
    "    new = tv[i].upper()\n",
    "    tv[i] = new\n",
    "    i += 1\n",
    "print(tv)"
   ]
  },
  {
   "cell_type": "code",
   "execution_count": 11,
   "metadata": {},
   "outputs": [
    {
     "name": "stdout",
     "output_type": "stream",
     "text": [
      "['GOT', 'NACROS', 'VICE']\n"
     ]
    }
   ],
   "source": [
    "# ループ内でリストの値を更新\n",
    "# ver. enumerate　\n",
    "\n",
    "tv = [\"GOT\", \"Narcos\", \"Vice\"]\n",
    "for i,show in enumerate(tv):\n",
    "    new = tv[i].upper()\n",
    "    tv[i] = new\n",
    "\n",
    "print(tv)"
   ]
  },
  {
   "cell_type": "code",
   "execution_count": 4,
   "metadata": {},
   "outputs": [
    {
     "name": "stdout",
     "output_type": "stream",
     "text": [
      "['GOT', 'NARCOS', 'VICE', 'ARRESTED DEVELOPMENT', 'FRIENDS', 'ALWAYS SUNNY']\n"
     ]
    }
   ],
   "source": [
    "# ループ内で値を加工して、別のリストへ格納\n",
    "tv = [\"GOT\", \"Narcos\", \"Vice\"]\n",
    "coms = [\"Arrested Development\", \"friends\",\"Always Sunny\"]\n",
    "all_shows = []\n",
    "\n",
    "for show in tv:\n",
    "    show = show.upper()\n",
    "    all_shows.append(show)\n",
    "    \n",
    "for show in coms:\n",
    "    show = show.upper()\n",
    "    all_shows.append(show)\n",
    "\n",
    "print(all_shows)"
   ]
  },
  {
   "cell_type": "code",
   "execution_count": 5,
   "metadata": {},
   "outputs": [
    {
     "name": "stdout",
     "output_type": "stream",
     "text": [
      "1\n",
      "2\n",
      "3\n",
      "4\n",
      "5\n",
      "6\n",
      "7\n",
      "8\n",
      "9\n",
      "10\n"
     ]
    }
   ],
   "source": [
    "# rangeを使ったforループ\n",
    "# range(x,y)\n",
    "# xが開始、yは終了だが、yは含まない（一つ手前迄）為、注意が必要 \n",
    "\n",
    "for i in range(1,11):\n",
    "    print(i)"
   ]
  },
  {
   "cell_type": "code",
   "execution_count": 10,
   "metadata": {},
   "outputs": [
    {
     "name": "stdout",
     "output_type": "stream",
     "text": [
      "10!\n",
      "9!\n",
      "8!\n",
      "7!\n",
      "6!\n",
      "5!\n",
      "4!\n",
      "3!\n",
      "2!\n",
      "1!\n",
      "Happy New Year!\n"
     ]
    }
   ],
   "source": [
    "# while ループ\n",
    "\n",
    "x = 10\n",
    "while x > 0:\n",
    "    print('{}!'.format(x))\n",
    "    x -= 1\n",
    "print(\"Happy New Year!\")"
   ]
  },
  {
   "cell_type": "code",
   "execution_count": 1,
   "metadata": {},
   "outputs": [
    {
     "name": "stdout",
     "output_type": "stream",
     "text": [
      "Type q to quit\n",
      "What is your name?aaa\n",
      "Type q to quit\n",
      "What is your fav. color?ccc\n",
      "Type q to quit\n",
      "What is your quest?q\n"
     ]
    }
   ],
   "source": [
    "# while ループ\n",
    "# break\n",
    "# qを入力するまでループを繰り返す\n",
    "\n",
    "qs = [\n",
    "    \"What is your name?\",\n",
    "    \"What is your fav. color?\",\n",
    "    \"What is your quest?\"\n",
    "]\n",
    "n = 0\n",
    "while True:\n",
    "    print(\"Type q to quit\")\n",
    "    a = input(qs[n])\n",
    "    if a == \"q\":\n",
    "        break\n",
    "    n = (n + 1) % 3"
   ]
  },
  {
   "cell_type": "code",
   "execution_count": 2,
   "metadata": {},
   "outputs": [
    {
     "name": "stdout",
     "output_type": "stream",
     "text": [
      "1\n",
      "2\n",
      "4\n",
      "5\n"
     ]
    }
   ],
   "source": [
    "# continue - 1\n",
    "# for\n",
    "for i in range(1,6):\n",
    "    if i == 3:\n",
    "        continue\n",
    "    print(i)"
   ]
  },
  {
   "cell_type": "code",
   "execution_count": 3,
   "metadata": {},
   "outputs": [
    {
     "name": "stdout",
     "output_type": "stream",
     "text": [
      "1\n",
      "2\n",
      "4\n",
      "5\n"
     ]
    }
   ],
   "source": [
    "# continue - 2\n",
    "# while\n",
    "i = 1\n",
    "while i <= 5:\n",
    "    if i == 3:\n",
    "        i += 1\n",
    "        continue\n",
    "    print(i)\n",
    "    i += 1"
   ]
  },
  {
   "cell_type": "code",
   "execution_count": 4,
   "metadata": {},
   "outputs": [
    {
     "name": "stdout",
     "output_type": "stream",
     "text": [
      "1\n",
      "a\n",
      "b\n",
      "c\n",
      "2\n",
      "a\n",
      "b\n",
      "c\n"
     ]
    }
   ],
   "source": [
    "# 入れ子ループ\n",
    "\n",
    "for i in range(1,3):\n",
    "    print(i)\n",
    "    for letter in [\"a\",\"b\",\"c\"]:\n",
    "        print(letter)"
   ]
  },
  {
   "cell_type": "code",
   "execution_count": 6,
   "metadata": {},
   "outputs": [
    {
     "name": "stdout",
     "output_type": "stream",
     "text": [
      "[6, 7, 8, 9, 7, 8, 9, 10, 8, 9, 10, 11, 9, 10, 11, 12]\n"
     ]
    }
   ],
   "source": [
    "# 入れ子ループ内で足し算\n",
    "\n",
    "list1 = [1,2,3,4]\n",
    "list2 = [5,6,7,8]\n",
    "added = []\n",
    "\n",
    "for i in list1:\n",
    "    for j in list2:\n",
    "        added.append(i + j)\n",
    "\n",
    "print(added)"
   ]
  },
  {
   "cell_type": "code",
   "execution_count": 8,
   "metadata": {},
   "outputs": [
    {
     "name": "stdout",
     "output_type": "stream",
     "text": [
      "y or n?y\n",
      "1\n",
      "2\n",
      "3\n",
      "4\n",
      "5\n",
      "y or n?y\n",
      "1\n",
      "2\n",
      "3\n",
      "4\n",
      "5\n",
      "y or n?n\n"
     ]
    }
   ],
   "source": [
    "# while と for の入れ子ループ\n",
    "\n",
    "while input('y or n?') != 'n':\n",
    "    for i in range(1,6):\n",
    "        print(i)"
   ]
  },
  {
   "cell_type": "code",
   "execution_count": null,
   "metadata": {
    "collapsed": true
   },
   "outputs": [],
   "source": [
    "# チャレンジ"
   ]
  },
  {
   "cell_type": "code",
   "execution_count": 9,
   "metadata": {},
   "outputs": [
    {
     "name": "stdout",
     "output_type": "stream",
     "text": [
      "ウォーキング・デッド\n",
      "アントラージュ\n",
      "ザ・ソプラノイズ\n",
      "ヴァンパイア・ダイアリーズ\n"
     ]
    }
   ],
   "source": [
    "# 1 次のリストの要素をそれぞれ出力しよう\n",
    "# [\"ウォーキング・デッド\",\"アントラージュ\",\"ザ・ソプラノイズ\",\"ヴァンパイア・ダイアリーズ\"]\n",
    "\n",
    "movies = [\"ウォーキング・デッド\",\"アントラージュ\",\"ザ・ソプラノイズ\",\"ヴァンパイア・ダイアリーズ\"]\n",
    "\n",
    "for movie in movies:\n",
    "    print(movie)\n"
   ]
  },
  {
   "cell_type": "code",
   "execution_count": 11,
   "metadata": {},
   "outputs": [
    {
     "name": "stdout",
     "output_type": "stream",
     "text": [
      "25\n",
      "26\n",
      "27\n",
      "28\n",
      "29\n",
      "30\n",
      "31\n",
      "32\n",
      "33\n",
      "34\n",
      "35\n",
      "36\n",
      "37\n",
      "38\n",
      "39\n",
      "40\n",
      "41\n",
      "42\n",
      "43\n",
      "44\n",
      "45\n",
      "46\n",
      "47\n",
      "48\n",
      "49\n",
      "50\n"
     ]
    }
   ],
   "source": [
    "# 2 20から50までの数値をそれぞれ出力しよう\n",
    "\n",
    "for i in range(25,51):\n",
    "    print(i)"
   ]
  },
  {
   "cell_type": "code",
   "execution_count": 12,
   "metadata": {},
   "outputs": [
    {
     "name": "stdout",
     "output_type": "stream",
     "text": [
      "0 ウォーキング・デッド\n",
      "1 アントラージュ\n",
      "2 ザ・ソプラノイズ\n",
      "3 ヴァンパイア・ダイアリーズ\n"
     ]
    }
   ],
   "source": [
    "# 3 チャレンジ１のリストの要素をそれぞれ、インデックス値と一緒に出力しよう。\n",
    "\n",
    "movies = [\"ウォーキング・デッド\",\"アントラージュ\",\"ザ・ソプラノイズ\",\"ヴァンパイア・ダイアリーズ\"]\n",
    "\n",
    "for i,movie in enumerate(movies):\n",
    "    print(i,movie)\n"
   ]
  },
  {
   "cell_type": "code",
   "execution_count": 1,
   "metadata": {},
   "outputs": [
    {
     "name": "stdout",
     "output_type": "stream",
     "text": [
      "4\n",
      "数字を入力するか、qで終了します。\n",
      "正解\n",
      "3\n",
      "数字を入力するか、qで終了します。\n",
      "不正解\n",
      "1\n",
      "数字を入力するか、qで終了します。\n",
      "正解\n",
      "w\n",
      "数字を入力するか、qで終了します。\n",
      "不正解\n",
      "q\n"
     ]
    }
   ],
   "source": [
    "# 4 無限ループする数字当てプログラムを書こう。\n",
    "\n",
    "num_list = [\"1\",\"4\",\"7\",\"9\"]\n",
    "\n",
    "while True:\n",
    "    n = input()\n",
    "    if n == \"q\":\n",
    "        break\n",
    "    else:\n",
    "        print(\"数字を入力するか、qで終了します。\")\n",
    "        if n in num_list:\n",
    "            print(\"正解\")\n",
    "        else:\n",
    "            print(\"不正解\")"
   ]
  },
  {
   "cell_type": "code",
   "execution_count": 2,
   "metadata": {},
   "outputs": [
    {
     "name": "stdout",
     "output_type": "stream",
     "text": [
      "[72, 8, 264, 664, 171, 19, 627, 1577, 1332, 148, 4884, 12284, 36, 4, 132, 332]\n"
     ]
    }
   ],
   "source": [
    "# 5 ２つのリストに含まれるすべての数字の組みあわせで掛け算しよう。\n",
    "\n",
    "list1 = [8,19,148,4]\n",
    "list2 = [9,1,33,83]\n",
    "multi_list = []\n",
    "\n",
    "for i in list1:\n",
    "    for j in list2:\n",
    "        multi_list.append(i * j)\n",
    "\n",
    "print(multi_list)"
   ]
  },
  {
   "cell_type": "code",
   "execution_count": null,
   "metadata": {
    "collapsed": true
   },
   "outputs": [],
   "source": []
  }
 ],
 "metadata": {
  "kernelspec": {
   "display_name": "Python 3",
   "language": "python",
   "name": "python3"
  },
  "language_info": {
   "codemirror_mode": {
    "name": "ipython",
    "version": 3
   },
   "file_extension": ".py",
   "mimetype": "text/x-python",
   "name": "python",
   "nbconvert_exporter": "python",
   "pygments_lexer": "ipython3",
   "version": "3.6.3"
  }
 },
 "nbformat": 4,
 "nbformat_minor": 2
}
