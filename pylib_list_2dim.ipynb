{
 "cells": [
  {
   "cell_type": "code",
   "execution_count": 1,
   "metadata": {},
   "outputs": [
    {
     "name": "stdout",
     "output_type": "stream",
     "text": [
      "3\n",
      "1 2 3\n",
      "2 3 4\n",
      "3 4 5\n",
      "二次元配列; [['1', '2', '3'], ['2', '3', '4'], ['3', '4', '5']]\n"
     ]
    }
   ],
   "source": [
    "# 1. 標準入力から二次元配列を作成\n",
    "\n",
    "# 二次元配列はテーブル(行列)を表す\n",
    "# 親リスト = 行　子リスト =　列\n",
    "# リストのサイズを最初に入力 - N\n",
    "#  N行の子配列をループで回して配列に追加\n",
    "N = int(input())\n",
    "two_dim_list = []\n",
    "for i in range(N):\n",
    "    two_dim_list.append(input().rstrip().split(' '))\n",
    "print('二次元配列;', two_dim_list)"
   ]
  },
  {
   "cell_type": "code",
   "execution_count": 3,
   "metadata": {},
   "outputs": [
    {
     "name": "stdout",
     "output_type": "stream",
     "text": [
      "2\n",
      "1 2\n",
      "2 3\n",
      "二次元配列; [['1', '2'], ['2', '3']]\n"
     ]
    }
   ],
   "source": [
    "# 1'. 標準入力から二次元配列を作成(内包表記)\n",
    "\n",
    "# 二次元配列はテーブル(行列)を表す\n",
    "# 親リスト = 行　子リスト =　列\n",
    "# リストのサイズを最初に入力 - N\n",
    "#  N行の子配列をループで回して配列に追加\n",
    "N = int(input())\n",
    "two_dim_list = [input().rstrip().split(' ') for i in range(N) ]\n",
    "print('二次元配列;', two_dim_list)"
   ]
  },
  {
   "cell_type": "code",
   "execution_count": 14,
   "metadata": {},
   "outputs": [
    {
     "name": "stdout",
     "output_type": "stream",
     "text": [
      "2\n",
      "2 2\n",
      "3 2\n",
      "二次元配列(1行毎): ['2', '2']\n",
      "二次元配列(1行毎): ['3', '2']\n"
     ]
    }
   ],
   "source": [
    "# 2. 二次元配列の子配列を1行毎に表示\n",
    "\n",
    "# リストのサイズを最初に入力 - N\n",
    "#  N行の子配列をループで回して配列に追加\n",
    "N = int(input())\n",
    "two_dim_list = []\n",
    "for i in range(N):\n",
    "    two_dim_list.append(input().rstrip().split(' '))\n",
    "\n",
    "for j in range(N):\n",
    "    print('二次元配列(1行毎):',two_dim_list[j])"
   ]
  },
  {
   "cell_type": "code",
   "execution_count": 9,
   "metadata": {},
   "outputs": [
    {
     "name": "stdout",
     "output_type": "stream",
     "text": [
      "2\n",
      "1 2\n",
      "2 3\n",
      "[[1, 2], [2, 3]]\n"
     ]
    }
   ],
   "source": [
    "# 3. 配列要素の文字列 ⇒ 数値変換\n",
    "\n",
    "# 標準入力で作成した二次元配列は、一旦文字列で格納される為、それらを全て数値に変換\n",
    "# リストのサイズを最初に入力 - N\n",
    "#  N行の子配列をループで回して配列に追加\n",
    "N = int(input())\n",
    "two_dim_list = []\n",
    "# 先ずは文字列で作成\n",
    "for i in range(N):\n",
    "    two_dim_list.append(input().rstrip().split(' '))\n",
    "\n",
    "two_dim_list_int = []\n",
    "# 続いて数値型に変換\n",
    "for j in range(N):\n",
    "    two_dim_list_int.append([int(s) for s in two_dim_list[j]])\n",
    "\n",
    "print(two_dim_list_int)"
   ]
  },
  {
   "cell_type": "code",
   "execution_count": 1,
   "metadata": {},
   "outputs": [
    {
     "name": "stdout",
     "output_type": "stream",
     "text": [
      "2\n",
      "1 2\n",
      "2 3\n",
      "['1 2', '2 3']\n"
     ]
    }
   ],
   "source": [
    "# 4. 二次元配列をスペース区切りで出力する\n",
    "\n",
    "# 標準入力で作成した二次元配列は、一旦文字列で格納される為、それらを全て数値に変換\n",
    "# リストのサイズを最初に入力 - N\n",
    "#  N行の子配列をループで回して配列に追加\n",
    "N = int(input())\n",
    "two_dim_list = []\n",
    "# 先ずは文字列で作成\n",
    "for i in range(N):\n",
    "    two_dim_list.append(input().rstrip().split(' '))\n",
    "\n",
    "two_dim_list_int = []\n",
    "# 続いて数値型に変換\n",
    "for j in range(N):\n",
    "    two_dim_list_int.append([int(s) for s in two_dim_list[j]])\n",
    "\n",
    "# スペース区切りで出力\n",
    "for k in range(N):\n",
    "    print(' '.join(map(str, two_dim_list_int[k])))\n",
    "# print([' '.join(map(str, two_dim_list_int[k])) for k in range(N)])\n"
   ]
  },
  {
   "cell_type": "code",
   "execution_count": null,
   "metadata": {
    "collapsed": true
   },
   "outputs": [],
   "source": [
    "# 5. 子配列毎に特定の値のカウントを出力\n",
    "\n",
    "# 標準入力で作成した二次元配列は、一旦文字列で格納される為、それらを全て数値に変換\n",
    "# リストのサイズ - N\n",
    "# カウントする指定値 - X\n",
    "#  N行の子配列をループで回して配列に追加\n",
    "N = int(input())\n",
    "X = int(input())\n",
    "two_dim_list = []\n",
    "# 先ずは文字列で作成\n",
    "for i in range(N):\n",
    "    two_dim_list.append(input().rstrip().split(' '))\n",
    "\n",
    "two_dim_list_int = []\n",
    "# 続いて数値型に変換\n",
    "for j in range(N):\n",
    "    two_dim_list_int.append([int(s) for s in two_dim_list[j]])\n",
    "\n",
    "# Xの数を子配列毎にカウント \n",
    "for k in range(N):\n",
    "    print(k, '番目:',two_dim_list_int[k].count(X))"
   ]
  },
  {
   "cell_type": "code",
   "execution_count": 1,
   "metadata": {},
   "outputs": [
    {
     "name": "stdout",
     "output_type": "stream",
     "text": [
      "2\n",
      "2\n",
      "2\n",
      "2 2\n",
      "2 2\n",
      "(0, 0)\n",
      "(0, 1)\n",
      "(1, 0)\n",
      "(1, 1)\n"
     ]
    }
   ],
   "source": [
    "# 6. 二次元配列の特定の値のインデックスを別の二次元配列に格納して出力\n",
    "\n",
    "# 標準入力で作成した二次元配列は、一旦文字列で格納される為、それらを全て数値に変換\n",
    "# 親リストのサイズ - N\n",
    "# 子リストのサイズ - M\n",
    "# インデックスを調べる指定値 - X\n",
    "#  N行の子配列をループで回して配列に追加\n",
    "N = int(input())\n",
    "M = int(input())\n",
    "X = int(input())\n",
    "two_dim_list = []\n",
    "# 先ずは文字列で作成\n",
    "for i in range(N):\n",
    "    two_dim_list.append(input().rstrip().split(' '))\n",
    "\n",
    "two_dim_list_int = []\n",
    "# 続いて数値型に変換\n",
    "for j in range(N):\n",
    "    two_dim_list_int.append([int(s) for s in two_dim_list[j]])\n",
    "\n",
    "# Xのインデックスをx_index_listに格納 \n",
    "x_index_list = []\n",
    "for k in range(N):\n",
    "    for l in range(M):\n",
    "        if two_dim_list_int[k][l] == X:\n",
    "            x_index_list.append((k,l))\n",
    "\n",
    "length = len(x_index_list)\n",
    "for m in range(length):\n",
    "    print(x_index_list[m])\n"
   ]
  },
  {
   "cell_type": "code",
   "execution_count": 12,
   "metadata": {},
   "outputs": [
    {
     "name": "stdout",
     "output_type": "stream",
     "text": [
      "3\n",
      "3\n",
      "1\n",
      "99\n",
      "1 2 3\n",
      "0 0 1\n",
      "1 1 1\n",
      "99 2 3\n",
      "0 0 99\n",
      "99 99 99\n"
     ]
    }
   ],
   "source": [
    "# 7. 二次元配列の特定の値を、さらに別の特定の値で上書き\n",
    "\n",
    "# 二次元配列の特定の値のインデックスを別の二次元配列に格納し\n",
    "# 標準入力で作成した二次元配列は、一旦文字列で格納される為、それらを全て数値に変換\n",
    "# 親リストのサイズ - N\n",
    "# 子リストのサイズ - M\n",
    "# インデックスを調べる指定値 - X\n",
    "# 上書きする値 - Y\n",
    "# N行の子配列をループで回して配列に追加\n",
    "\n",
    "N = int(input())\n",
    "M = int(input())\n",
    "X = int(input())\n",
    "Y = int(input())\n",
    "\n",
    "# 先ずは文字列で作成\n",
    "two_dim_list = []\n",
    "for i in range(N):\n",
    "    two_dim_list.append(input().rstrip().split(' '))\n",
    "\n",
    "# 続いて数値型に変換\n",
    "two_dim_list_int = []\n",
    "for j in range(N):\n",
    "    two_dim_list_int.append([int(s) for s in two_dim_list[j]])\n",
    "\n",
    "# Xのインデックスをx_index_listに格納 \n",
    "x_index_list = []\n",
    "for k in range(N):\n",
    "    for l in range(M):\n",
    "        if two_dim_list_int[k][l] == X:\n",
    "            x_index_list.append((k,l))\n",
    "\n",
    "length = len(x_index_list)\n",
    "# x_index_list は二次元配列の要素のインデックスを表しているため、子リスト(列)のサイズは必ず2つ（インデックス:0,1）\n",
    "for m in range(length):\n",
    "    two_dim_list_int[x_index_list[m][0]][x_index_list[m][1]] = Y\n",
    "\n",
    "# スペース区切りで出力\n",
    "for n in range(N):\n",
    "    print(' '.join(map(str, two_dim_list_int[n])))\n"
   ]
  },
  {
   "cell_type": "code",
   "execution_count": null,
   "metadata": {
    "collapsed": true
   },
   "outputs": [],
   "source": []
  },
  {
   "cell_type": "code",
   "execution_count": null,
   "metadata": {
    "collapsed": true
   },
   "outputs": [],
   "source": []
  },
  {
   "cell_type": "code",
   "execution_count": null,
   "metadata": {
    "collapsed": true
   },
   "outputs": [],
   "source": []
  }
 ],
 "metadata": {
  "kernelspec": {
   "display_name": "Python 3",
   "language": "python",
   "name": "python3"
  },
  "language_info": {
   "codemirror_mode": {
    "name": "ipython",
    "version": 3
   },
   "file_extension": ".py",
   "mimetype": "text/x-python",
   "name": "python",
   "nbconvert_exporter": "python",
   "pygments_lexer": "ipython3",
   "version": "3.6.3"
  }
 },
 "nbformat": 4,
 "nbformat_minor": 2
}
