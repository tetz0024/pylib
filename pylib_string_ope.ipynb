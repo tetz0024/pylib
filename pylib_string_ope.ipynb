{
 "cells": [
  {
   "cell_type": "code",
   "execution_count": 4,
   "metadata": {},
   "outputs": [
    {
     "name": "stdout",
     "output_type": "stream",
     "text": [
      "1番目の文字はTです\n",
      "2番目の文字はoです\n",
      "3番目の文字はrです\n",
      "4番目の文字はuです\n",
      "5番目の文字は です\n",
      "6番目の文字はOです\n",
      "7番目の文字はoです\n",
      "8番目の文字はnです\n",
      "9番目の文字はiです\n",
      "10番目の文字はsです\n",
      "11番目の文字はhです\n",
      "12番目の文字はiです\n"
     ]
    }
   ],
   "source": [
    "# 文字列のi番目の文字は？\n",
    "author = \"Toru Oonishi\"\n",
    "for i in range(len(author)):\n",
    "    print(\"{}番目の文字は{}です\".format(i+1,author[i]))"
   ]
  },
  {
   "cell_type": "code",
   "execution_count": 21,
   "metadata": {},
   "outputs": [
    {
     "name": "stdout",
     "output_type": "stream",
     "text": [
      "['i', 'h', 's', 'i', 'n', 'o', 'O', 'u', 'r', 'o', 'T']\n",
      "後ろから0番目の文字はiです。\n",
      "後ろから1番目の文字はhです。\n",
      "後ろから2番目の文字はsです。\n",
      "後ろから3番目の文字はiです。\n",
      "後ろから4番目の文字はnです。\n",
      "後ろから5番目の文字はoです。\n",
      "後ろから6番目の文字はOです。\n",
      "後ろから7番目の文字はuです。\n",
      "後ろから8番目の文字はrです。\n",
      "後ろから9番目の文字はoです。\n",
      "後ろから10番目の文字はTです。\n"
     ]
    }
   ],
   "source": [
    "# 文字列の(後ろから)i番目の文字は？\n",
    "author = \"ToruOonishi\"\n",
    "# new_str_list = list(reversed(org_str))\n",
    "re_author_list = list(reversed(author))\n",
    "print(re_author_list)\n",
    "for i in range(len(re_author_list)):\n",
    "    print(\"後ろから{}番目の文字は{}です。\".format(i,re_author_list[i]))"
   ]
  },
  {
   "cell_type": "code",
   "execution_count": 22,
   "metadata": {},
   "outputs": [
    {
     "name": "stdout",
     "output_type": "stream",
     "text": [
      "1 2 3 43 5\n",
      "['1', '2', '3', '43', '5']\n"
     ]
    }
   ],
   "source": [
    "# 文字列の分割\n",
    "input_list = input().split(\" \")\n",
    "print(input_list)"
   ]
  },
  {
   "cell_type": "code",
   "execution_count": 23,
   "metadata": {},
   "outputs": [
    {
     "name": "stdout",
     "output_type": "stream",
     "text": [
      "a+b+c\n"
     ]
    }
   ],
   "source": [
    "# 文字列の結合\n",
    "first_three = \"abc\"\n",
    "result = \"+\".join(first_three)\n",
    "print(result)"
   ]
  },
  {
   "cell_type": "code",
   "execution_count": 2,
   "metadata": {},
   "outputs": [
    {
     "name": "stdout",
     "output_type": "stream",
     "text": [
      "a+b+c\n"
     ]
    }
   ],
   "source": [
    "# 文字列の結合\n",
    "first_three = [\"a\",\"b\",\"c\"]\n",
    "result = \"+\".join(first_three)\n",
    "print(result)"
   ]
  },
  {
   "cell_type": "code",
   "execution_count": null,
   "metadata": {
    "collapsed": true
   },
   "outputs": [],
   "source": [
    "# 置換\n",
    "equ = \"All animals are equal.\"\n",
    "equ = equ.replace(\"a\",\"@\")\n",
    "print(equ)"
   ]
  },
  {
   "cell_type": "code",
   "execution_count": 34,
   "metadata": {},
   "outputs": [
    {
     "name": "stdout",
     "output_type": "stream",
     "text": [
      "The fox jumped over the fence .\n"
     ]
    }
   ],
   "source": [
    "# 文字列を半角スペース区切りでつなげて、不要なスペースを削除\n",
    "words = [\"The\", \"fox\", \"jumped\", \"over\", \"the\", \"fence\", \".\"]\n",
    "one = \" \".join(words)\n",
    "print(one)"
   ]
  },
  {
   "cell_type": "code",
   "execution_count": 42,
   "metadata": {},
   "outputs": [
    {
     "name": "stdout",
     "output_type": "stream",
     "text": [
      "The\n"
     ]
    }
   ],
   "source": [
    "# 空白除去\n",
    "#  - 文字列の外側はstrip\n",
    "#  - 文字列の内側はreplace\n",
    "s = \"    T h e    \"\n",
    "s = s.strip()\n",
    "s = s.replace(\" \", \"\")\n",
    "print(s)"
   ]
  },
  {
   "cell_type": "code",
   "execution_count": null,
   "metadata": {
    "collapsed": true
   },
   "outputs": [],
   "source": []
  },
  {
   "cell_type": "code",
   "execution_count": 44,
   "metadata": {},
   "outputs": [
    {
     "name": "stdout",
     "output_type": "stream",
     "text": [
      "左側空白除去 T h e    \n",
      "左側空白除去     T h e\n"
     ]
    }
   ],
   "source": [
    "# 空白除去\n",
    "#  - 文字列の左側はlstrip\n",
    "#  - 文字列の右側はrstrip\n",
    "s = \"    T h e    \"\n",
    "s_ls = s.lstrip()\n",
    "print(\"左側空白除去\",s_ls)\n",
    "s_rs = s.rstrip()\n",
    "print(\"左側空白除去\",s_rs)"
   ]
  },
  {
   "cell_type": "code",
   "execution_count": 2,
   "metadata": {},
   "outputs": [
    {
     "name": "stdout",
     "output_type": "stream",
     "text": [
      "Not found.\n"
     ]
    }
   ],
   "source": [
    "# 文字を探す\n",
    "#  - index 引数の文字が最初に現れるインデックス値を返す\n",
    "try:\n",
    "    \"animals\".index(\"z\")\n",
    "except:\n",
    "    print(\"Not found.\")"
   ]
  },
  {
   "cell_type": "code",
   "execution_count": 4,
   "metadata": {},
   "outputs": [
    {
     "name": "stdout",
     "output_type": "stream",
     "text": [
      "含まれます。\n",
      "含まれません。\n"
     ]
    }
   ],
   "source": [
    "# 包含\n",
    "cat = \"Cat\"\n",
    "bat = \"Bat\"\n",
    "comp_strings = \"Cat in the hat.\"\n",
    "if cat in comp_strings:\n",
    "    print(\"含まれます。\")\n",
    "if bat not in comp_strings:\n",
    "    print(\"含まれません。\")\n",
    "\n"
   ]
  },
  {
   "cell_type": "code",
   "execution_count": 6,
   "metadata": {},
   "outputs": [
    {
     "name": "stdout",
     "output_type": "stream",
     "text": [
      "彼女は\"そうだね\"と言った\n",
      "彼女は'そうだね'と言った\n",
      "彼女は\"そうだね\"と言った\n"
     ]
    }
   ],
   "source": [
    "# エスケープ文字\n",
    "\n",
    "# バックスラッシュによるエスケープ\n",
    "print(\"彼女は\\\"そうだね\\\"と言った\")\n",
    "\n",
    "# ダブルクォートの中にシングルクォート\n",
    "print(\"彼女は'そうだね'と言った\")\n",
    "\n",
    "# シングルクォートの中にダブルクォート\n",
    "print('彼女は\"そうだね\"と言った')\n"
   ]
  },
  {
   "cell_type": "code",
   "execution_count": 9,
   "metadata": {},
   "outputs": [
    {
     "name": "stdout",
     "output_type": "stream",
     "text": [
      "line1\n",
      "line2\n",
      "line3\n"
     ]
    }
   ],
   "source": [
    "# 改行\n",
    "print(\"line1\\nline2\\nline3\")"
   ]
  },
  {
   "cell_type": "code",
   "execution_count": 12,
   "metadata": {},
   "outputs": [
    {
     "name": "stdout",
     "output_type": "stream",
     "text": [
      "['トルストイ', 'カミュ', 'オーウェル']\n",
      "死の代わりに\n",
      "ひとつの光があった。\n",
      "死の代わりに\n",
      "ひとつの光があった。\n"
     ]
    }
   ],
   "source": [
    "# スライス\n",
    "# 開始インデックス、終了インデックス\n",
    "# 出力は開始インデックスから終了インデックスの一つ手前まで\n",
    "fict = [\"トルストイ\",\"カミュ\",\"オーウェル\",\"ハクスリー\",\"オースティン\"]\n",
    "print(fict[0:3])\n",
    "\n",
    "ivan = \"死の代わりにひとつの光があった。\"\n",
    "print(ivan[0:6])\n",
    "print(ivan[6:16])\n",
    "\n",
    "print(ivan[:6])\n",
    "print(ivan[6:])\n"
   ]
  },
  {
   "cell_type": "code",
   "execution_count": 18,
   "metadata": {
    "collapsed": true
   },
   "outputs": [],
   "source": [
    "# チャレンジ"
   ]
  },
  {
   "cell_type": "code",
   "execution_count": 19,
   "metadata": {},
   "outputs": [
    {
     "name": "stdout",
     "output_type": "stream",
     "text": [
      "カ\n",
      "ミ\n",
      "ュ\n"
     ]
    }
   ],
   "source": [
    "# 1 - 文字列\"カミュ\"に含まれているすべての文字を1文字ずつ出力しよう\n",
    "kamu = \"カミュ\"\n",
    "for i in range(len(kamu)):\n",
    "    print(kamu[i:i+1])"
   ]
  },
  {
   "cell_type": "code",
   "execution_count": 42,
   "metadata": {},
   "outputs": [
    {
     "name": "stdout",
     "output_type": "stream",
     "text": [
      "入力１:手紙\n",
      "入力２:両親\n"
     ]
    },
    {
     "data": {
      "text/plain": [
       "'私は昨日手紙を書いて、両親に送った！'"
      ]
     },
     "execution_count": 42,
     "metadata": {},
     "output_type": "execute_result"
    }
   ],
   "source": [
    "# 2 - \"私は昨日{入力１}を書いて、[入力２]に送った！\"\n",
    "input1 = input(\"入力１:\")\n",
    "input2 = input(\"入力２:\")\n",
    "\"私は昨日{}を書いて、{}に送った！\".format(input1,input2)"
   ]
  },
  {
   "cell_type": "code",
   "execution_count": 20,
   "metadata": {},
   "outputs": [
    {
     "name": "stdout",
     "output_type": "stream",
     "text": [
      "Aldous huxley was born in 1894.\n"
     ]
    }
   ],
   "source": [
    "# 3 - 文法的に正しい文書を書いた文字列の先頭をメソッドを使って大文字にしよう。\n",
    "\n",
    "strings = \"aldous Huxley was born in 1894.\"\n",
    "print(strings.capitalize())"
   ]
  },
  {
   "cell_type": "code",
   "execution_count": 21,
   "metadata": {},
   "outputs": [
    {
     "name": "stdout",
     "output_type": "stream",
     "text": [
      "['どこで？', 'だれが？', 'いつ？']\n"
     ]
    }
   ],
   "source": [
    "# 4 - \"どこで？　だれが？　いつ？\"をメソッドで分割して、[\"どこで？\",\"だれが？\",\"いつ？\"]のようなリストにしよう。\n",
    "strings_list = \"どこで？　だれが？　いつ？\".split(\"　\")\n",
    "print(strings_list)\n"
   ]
  },
  {
   "cell_type": "code",
   "execution_count": 41,
   "metadata": {},
   "outputs": [
    {
     "name": "stdout",
     "output_type": "stream",
     "text": [
      " The fox jumped over the fence.\n"
     ]
    }
   ],
   "source": [
    "# 5 - リスト[\"The\", \"fox\", \"jumped\", \"over\", \"the\", \"fence\", \".\"]の文字列を正しい英文になるように連結しよう。\n",
    "#  ただし、ピリオドの前の空白は不要\n",
    "words = [\"The\", \"fox\", \"jumped\", \"over\", \"the\", \"fence\", \".\"]\n",
    "one = \"\"\n",
    "for i in range(len(words)):\n",
    "    if words[i] == \".\":\n",
    "        one = one + words[i]\n",
    "    else:\n",
    "        one = one + \" \" + words[i]\n",
    "print(one)"
   ]
  },
  {
   "cell_type": "code",
   "execution_count": 43,
   "metadata": {},
   "outputs": [
    {
     "name": "stdout",
     "output_type": "stream",
     "text": [
      "A $creaming come$ acro$$ the $ky.\n"
     ]
    }
   ],
   "source": [
    "# 6 - 文字列\"A screaming comes across the sky.\"に含まれる全ての\"s\"をドル記号に置き換えた文字列を作ろう。\n",
    "strings = \"A screaming comes across the sky.\"\n",
    "aft_replace = strings.replace(\"s\",\"$\")\n",
    "print(aft_replace)"
   ]
  },
  {
   "cell_type": "code",
   "execution_count": 44,
   "metadata": {},
   "outputs": [
    {
     "name": "stdout",
     "output_type": "stream",
     "text": [
      "2\n"
     ]
    }
   ],
   "source": [
    "# 7 - メソッドを使って\"Hemingway\"の中で最初に\"m\"が出現するインデックスを調べよう。\n",
    "hemingway = \"Hemingway\"\n",
    "print(hemingway.index(\"m\"))"
   ]
  },
  {
   "cell_type": "code",
   "execution_count": 45,
   "metadata": {},
   "outputs": [
    {
     "name": "stdout",
     "output_type": "stream",
     "text": [
      "ここへ来てから何年にも出した事のない声で、'しめた。しめた。'と笑いました。\n"
     ]
    }
   ],
   "source": [
    "# 8 - 好きな本のセリフを探してPythonの文字列にしよう\n",
    "print(\"ここへ来てから何年にも出した事のない声で、\\'しめた。しめた。\\'と笑いました。\")"
   ]
  },
  {
   "cell_type": "code",
   "execution_count": 73,
   "metadata": {},
   "outputs": [
    {
     "name": "stdout",
     "output_type": "stream",
     "text": [
      "指定の文字列aaa\n",
      "指定の数字3\n",
      "aaa aaa aaa\n",
      "aaa aaa aaa\n"
     ]
    }
   ],
   "source": [
    "# 9 - 文字列を\"+\"で結合して\"three three three\"という文字列を作ろう\n",
    "#  また、\"*\"を使って同じ文字列を作ってみよう。\n",
    "\n",
    "# 文字列の足し算\n",
    "def SumStrings(strings, num):\n",
    "    sum_strings = \"\"\n",
    "    for i in range(num):\n",
    "        if sum_strings == \"\":\n",
    "            sum_strings = strings\n",
    "        else:\n",
    "            sum_strings = sum_strings + \" \" + strings\n",
    "    return sum_strings\n",
    "\n",
    "# 文字列の掛け算\n",
    "def MultiStrings(strings, num):\n",
    "    multi_strings = ((strings + \" \") * num).strip()\n",
    "    return multi_strings\n",
    "\n",
    "s = input(\"指定の文字列\")\n",
    "n = int(input(\"指定の数字\"))\n",
    "print(SumStrings(s,n))\n",
    "print(MultiStrings(s,n))"
   ]
  },
  {
   "cell_type": "code",
   "execution_count": 70,
   "metadata": {},
   "outputs": [
    {
     "name": "stdout",
     "output_type": "stream",
     "text": [
      "四月の晴れた寒い日で\n"
     ]
    }
   ],
   "source": [
    "# 10 - 文字列\"四月の晴れた寒い日で、時計がどれも十三時を打っていた。\"をスライスして、「、」の前までの部分文字列を作ろう。\n",
    "\n",
    "strings = \"四月の晴れた寒い日で、時計がどれも十三時を打っていた。\"\n",
    "comma_ind = strings.index(\"、\")\n",
    "sliced_str = strings[:comma_ind]\n",
    "print(sliced_str)"
   ]
  },
  {
   "cell_type": "code",
   "execution_count": null,
   "metadata": {
    "collapsed": true
   },
   "outputs": [],
   "source": []
  }
 ],
 "metadata": {
  "kernelspec": {
   "display_name": "Python 3",
   "language": "python",
   "name": "python3"
  },
  "language_info": {
   "codemirror_mode": {
    "name": "ipython",
    "version": 3
   },
   "file_extension": ".py",
   "mimetype": "text/x-python",
   "name": "python",
   "nbconvert_exporter": "python",
   "pygments_lexer": "ipython3",
   "version": "3.6.3"
  }
 },
 "nbformat": 4,
 "nbformat_minor": 2
}
