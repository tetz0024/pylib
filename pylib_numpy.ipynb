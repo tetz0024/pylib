{
 "cells": [
  {
   "cell_type": "code",
   "execution_count": 1,
   "metadata": {},
   "outputs": [
    {
     "name": "stdout",
     "output_type": "stream",
     "text": [
      "2 3 4 \n",
      "['2' '3' '4']\n"
     ]
    }
   ],
   "source": [
    "# 1. Numpyで一次配列(文字列型＝デフォルト)を作成\n",
    "import numpy as np\n",
    "arr = np.asarray(input().rstrip().split(' '))\n",
    "print(arr)"
   ]
  },
  {
   "cell_type": "code",
   "execution_count": 2,
   "metadata": {},
   "outputs": [
    {
     "name": "stdout",
     "output_type": "stream",
     "text": [
      "2 3 4 7 6 5\n",
      "[2 3 4 7 6 5]\n"
     ]
    }
   ],
   "source": [
    "# 2. Numpyで一次配列(数値型)を作成\n",
    "import numpy as np\n",
    "arr = np.asarray(input().rstrip().split(' '), dtype=np.int32)\n",
    "print(arr)"
   ]
  },
  {
   "cell_type": "code",
   "execution_count": 14,
   "metadata": {},
   "outputs": [
    {
     "name": "stdout",
     "output_type": "stream",
     "text": [
      "2\n",
      "1 2\n",
      "2 3\n",
      "[[1 2]\n",
      " [2 3]]\n"
     ]
    }
   ],
   "source": [
    "# 3. Numpyで二次配列(数値型)を作成\n",
    "import numpy as np\n",
    "# N - 列数\n",
    "N = int(input())\n",
    "\n",
    "arr = np.asarray(([input().rstrip().split(' ') for i in range(N)]), dtype=np.int32)\n",
    "print(arr)"
   ]
  },
  {
   "cell_type": "code",
   "execution_count": 15,
   "metadata": {},
   "outputs": [
    {
     "name": "stdout",
     "output_type": "stream",
     "text": [
      "1 2\n",
      "[[ 0.  0.]]\n"
     ]
    }
   ],
   "source": [
    "# 4. Numpyで要素が全部0の配列を作成\n",
    "import numpy as np\n",
    "\n",
    "# 入力した形(x行y列)の全要素0配列を作成\n",
    "sp = input().rstrip().split(' ')\n",
    "x = int(sp[0])\n",
    "y = int(sp[1])\n",
    "arr = np.zeros((x, y))\n",
    "print(arr)"
   ]
  },
  {
   "cell_type": "code",
   "execution_count": null,
   "metadata": {
    "collapsed": true
   },
   "outputs": [],
   "source": []
  }
 ],
 "metadata": {
  "kernelspec": {
   "display_name": "Python 3",
   "language": "python",
   "name": "python3"
  },
  "language_info": {
   "codemirror_mode": {
    "name": "ipython",
    "version": 3
   },
   "file_extension": ".py",
   "mimetype": "text/x-python",
   "name": "python",
   "nbconvert_exporter": "python",
   "pygments_lexer": "ipython3",
   "version": "3.6.3"
  }
 },
 "nbformat": 4,
 "nbformat_minor": 2
}
