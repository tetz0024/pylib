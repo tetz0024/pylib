{
 "cells": [
  {
   "cell_type": "code",
   "execution_count": 1,
   "metadata": {},
   "outputs": [
    {
     "name": "stdout",
     "output_type": "stream",
     "text": [
      "3 2 5 3 1 75\n",
      "['3', '2', '5', '3', '1', '75']\n",
      "['1', '2', '3', '3', '5', '75']\n"
     ]
    }
   ],
   "source": [
    "# 1. 配列の中身をソート - sort関数を使用\n",
    "\n",
    "list = input().rstrip().split(' ')\n",
    "print(list)\n",
    "list.sort()\n",
    "print(list)"
   ]
  },
  {
   "cell_type": "code",
   "execution_count": 3,
   "metadata": {},
   "outputs": [
    {
     "name": "stdout",
     "output_type": "stream",
     "text": [
      "2 5 1 6 3 9 8 6 8 5 2\n",
      "['2', '5', '1', '6', '3', '9', '8', '6', '8', '5', '2']\n",
      "['9', '8', '8', '6', '6', '5', '5', '3', '2', '2', '1']\n"
     ]
    }
   ],
   "source": [
    "# 2. 配列の中身を降順にソート - sort,reverse関数を使用\n",
    "\n",
    "list = input().rstrip().split(' ')\n",
    "print(list)\n",
    "list.sort()\n",
    "list.reverse()\n",
    "print(list)"
   ]
  },
  {
   "cell_type": "code",
   "execution_count": 4,
   "metadata": {},
   "outputs": [
    {
     "name": "stdout",
     "output_type": "stream",
     "text": [
      "1 5 3 4 2 8 7 5 6 9 0 8\n",
      "list1 ['1', '5', '3', '4', '2', '8', '7', '5', '6', '9', '0', '8']\n",
      "list2 ['0', '1', '2', '3', '4', '5', '5', '6', '7', '8', '8', '9']\n"
     ]
    }
   ],
   "source": [
    "# 3. 現状の配列の中身はそのままにして別の配列をソート - sorted関数を使用\n",
    "\n",
    "list1 = input().rstrip().split(' ')\n",
    "\n",
    "list2 = sorted(list1)\n",
    "print('list1',list1)\n",
    "print('list2',list2)"
   ]
  },
  {
   "cell_type": "code",
   "execution_count": 5,
   "metadata": {
    "scrolled": true
   },
   "outputs": [
    {
     "name": "stdout",
     "output_type": "stream",
     "text": [
      "1 2 3 2 4 6 3 8 6 7 9 8 6 5\n",
      "list1 ['1', '2', '3', '2', '4', '6', '3', '8', '6', '7', '9', '8', '6', '5']\n",
      "list2 ['9', '8', '8', '7', '6', '6', '6', '5', '4', '3', '3', '2', '2', '1']\n"
     ]
    }
   ],
   "source": [
    "# 4. 現状の配列の中身はそのままにして別の配列を降順にソート - sorted関数を使用\n",
    "\n",
    "list1 = input().rstrip().split(' ')\n",
    "\n",
    "list2 = sorted(list1,reverse = True)\n",
    "print('list1',list1)\n",
    "print('list2',list2)"
   ]
  },
  {
   "cell_type": "code",
   "execution_count": 8,
   "metadata": {},
   "outputs": [
    {
     "name": "stdout",
     "output_type": "stream",
     "text": [
      "3\n",
      "1 3 2\n",
      "2 5 3\n",
      "4 0 3\n",
      "[['1', '3', '2'], ['2', '5', '3'], ['4', '0', '3']]\n",
      "0番目の要素でソート： [['1', '3', '2'], ['2', '5', '3'], ['4', '0', '3']]\n",
      "1番目の要素でソート： [['4', '0', '3'], ['1', '3', '2'], ['2', '5', '3']]\n",
      "2番目の要素でソート： [['1', '3', '2'], ['4', '0', '3'], ['2', '5', '3']]\n"
     ]
    }
   ],
   "source": [
    "# 5. 二次元配列のソート- sort関数を使用\n",
    "\n",
    "# リストのサイズを最初に入力 - N\n",
    "#  N行の子配列をループで回して配列に追加\n",
    "from operator import itemgetter\n",
    "\n",
    "N = int(input())\n",
    "two_dim_list = [input().rstrip().split(' ') for i in range(N) ]\n",
    "print(two_dim_list)\n",
    "\n",
    "two_dim_list.sort(key=itemgetter(0))\n",
    "print('0番目の要素でソート：',two_dim_list)\n",
    "two_dim_list.sort(key=itemgetter(1))\n",
    "print('1番目の要素でソート：',two_dim_list)\n",
    "two_dim_list.sort(key=itemgetter(2))\n",
    "print('2番目の要素でソート：',two_dim_list)"
   ]
  },
  {
   "cell_type": "code",
   "execution_count": 12,
   "metadata": {},
   "outputs": [
    {
     "name": "stdout",
     "output_type": "stream",
     "text": [
      "3\n",
      "1 3 2\n",
      "2 1 4\n",
      "5 2  4\n",
      "[['1', '3', '2'], ['2', '1', '4'], ['5', '2', '', '4']]\n",
      "0番目の要素で降順ソート： [['5', '2', '', '4'], ['2', '1', '4'], ['1', '3', '2']]\n",
      "1番目の要素で降順ソート： [['1', '3', '2'], ['5', '2', '', '4'], ['2', '1', '4']]\n",
      "2番目の要素で降順ソート： [['2', '1', '4'], ['1', '3', '2'], ['5', '2', '', '4']]\n"
     ]
    }
   ],
   "source": [
    "# 6. 二次元配列の降順ソート- sort,reverse関数を使用\n",
    "\n",
    "# リストのサイズを最初に入力 - N\n",
    "#  N行の子配列をループで回して配列に追加\n",
    "from operator import itemgetter\n",
    "\n",
    "N = int(input())\n",
    "two_dim_list = [input().rstrip().split(' ') for i in range(N) ]\n",
    "print(two_dim_list)\n",
    "\n",
    "two_dim_list.sort(key=itemgetter(0),reverse = True)\n",
    "print('0番目の要素で降順ソート：',two_dim_list)\n",
    "two_dim_list.sort(key=itemgetter(1),reverse = True)\n",
    "print('1番目の要素で降順ソート：',two_dim_list)\n",
    "two_dim_list.sort(key=itemgetter(2),reverse = True)\n",
    "print('2番目の要素で降順ソート：',two_dim_list)"
   ]
  },
  {
   "cell_type": "code",
   "execution_count": 16,
   "metadata": {},
   "outputs": [
    {
     "name": "stdout",
     "output_type": "stream",
     "text": [
      "3\n",
      " 1 4 3\n",
      "2 3 1\n",
      "5 3 2\n",
      "【two_dim_list1】： [['', '1', '4', '3'], ['2', '3', '1'], ['5', '3', '2']]\n",
      "【two_dim_list2】0番目の要素でソート： [['', '1', '4', '3'], ['2', '3', '1'], ['5', '3', '2']]\n",
      "【two_dim_list1】： [['', '1', '4', '3'], ['2', '3', '1'], ['5', '3', '2']]\n",
      "【two_dim_list2】1番目の要素でソート： [['', '1', '4', '3'], ['2', '3', '1'], ['5', '3', '2']]\n",
      "【two_dim_list1】： [['', '1', '4', '3'], ['2', '3', '1'], ['5', '3', '2']]\n",
      "【two_dim_list2】2番目の要素でソート： [['2', '3', '1'], ['5', '3', '2'], ['', '1', '4', '3']]\n"
     ]
    }
   ],
   "source": [
    "# 7. 二次元配列の別配列ソート- sorted関数を使用\n",
    "\n",
    "# リストのサイズを最初に入力 - N\n",
    "#  N行の子配列をループで回して配列に追加\n",
    "from operator import itemgetter\n",
    "\n",
    "N = int(input())\n",
    "two_dim_list1 = [input().rstrip().split(' ') for i in range(N) ]\n",
    "\n",
    "two_dim_list2 = sorted(two_dim_list1, key=itemgetter(0))\n",
    "print('【two_dim_list1】：',two_dim_list1)\n",
    "print('【two_dim_list2】0番目の要素でソート：',two_dim_list2)\n",
    "two_dim_list2 = sorted(two_dim_list1, key=itemgetter(1))\n",
    "print('【two_dim_list1】：',two_dim_list1)\n",
    "print('【two_dim_list2】1番目の要素でソート：',two_dim_list2)\n",
    "two_dim_list2 = sorted(two_dim_list1, key=itemgetter(2))\n",
    "print('【two_dim_list1】：',two_dim_list1)\n",
    "print('【two_dim_list2】2番目の要素でソート：',two_dim_list2)"
   ]
  },
  {
   "cell_type": "code",
   "execution_count": null,
   "metadata": {
    "collapsed": true
   },
   "outputs": [],
   "source": []
  }
 ],
 "metadata": {
  "kernelspec": {
   "display_name": "Python 3",
   "language": "python",
   "name": "python3"
  },
  "language_info": {
   "codemirror_mode": {
    "name": "ipython",
    "version": 3
   },
   "file_extension": ".py",
   "mimetype": "text/x-python",
   "name": "python",
   "nbconvert_exporter": "python",
   "pygments_lexer": "ipython3",
   "version": "3.6.3"
  }
 },
 "nbformat": 4,
 "nbformat_minor": 2
}
