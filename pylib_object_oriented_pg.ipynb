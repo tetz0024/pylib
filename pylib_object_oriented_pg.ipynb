{
 "cells": [
  {
   "cell_type": "code",
   "execution_count": null,
   "metadata": {
    "collapsed": true
   },
   "outputs": [],
   "source": [
    "#######################  オブジェクト指向  #######################"
   ]
  },
  {
   "cell_type": "code",
   "execution_count": null,
   "metadata": {
    "collapsed": true
   },
   "outputs": [],
   "source": [
    "# カプセル化"
   ]
  },
  {
   "cell_type": "code",
   "execution_count": null,
   "metadata": {
    "collapsed": true
   },
   "outputs": [],
   "source": [
    "# ２つの概念\n",
    "#  - オブジェクトによって複数の変数（状態を保持）とメソッド（状態を変更したり計算）をまとめる。\n",
    "#  - データをクラス内に隠蔽してそこから見えないようにする。  \n",
    "\n",
    "class Rectangle:\n",
    "    def __init__(self, w, l):\n",
    "        self.width = w\n",
    "        self.len = l\n",
    "    \n",
    "    def area(self):\n",
    "        return self.width * self.len\n"
   ]
  },
  {
   "cell_type": "code",
   "execution_count": 6,
   "metadata": {},
   "outputs": [
    {
     "name": "stdout",
     "output_type": "stream",
     "text": [
      "[100, 2, 3, 4, 5]\n",
      "[1, 200, 3, 4, 5]\n"
     ]
    }
   ],
   "source": [
    "class Data:\n",
    "    def __init__(self):\n",
    "        self.nums = [1, 2, 3, 4 ,5]\n",
    "        \n",
    "    def change_data(self, index, n):\n",
    "        self.nums[index] = n\n",
    "\n",
    "data_one = Data()\n",
    "data_one.nums[0] = 100\n",
    "print(data_one.nums)\n",
    "\n",
    "data_two = Data()\n",
    "data_two.change_data(1, 200)\n",
    "print(data_two.nums)\n"
   ]
  },
  {
   "cell_type": "code",
   "execution_count": 7,
   "metadata": {
    "collapsed": true
   },
   "outputs": [],
   "source": [
    "# プライベート変数\n",
    "#  変数 or メソッドの先頭に _ をつける　=　プライべート変数／プライベートメソッド\n",
    "\n",
    "class PublicPrivateExample:\n",
    "    def __init__(self):\n",
    "        self.public = \"safe\"\n",
    "        self._unsafe = \"unsafe\"\n",
    "        \n",
    "    def public_method(self):\n",
    "        # clientが使ってもよい\n",
    "        pass #pass文は、文が必須な構文で何もしない場合に使う\n",
    "\n",
    "    def _unsafe_method(self):\n",
    "        #clientが使うべきじゃない\n",
    "        pass #pass文は、文が必須な構文で何もしない場合に使う\n"
   ]
  },
  {
   "cell_type": "code",
   "execution_count": null,
   "metadata": {
    "collapsed": true
   },
   "outputs": [],
   "source": [
    "# 抽象化 - 対象から小さな特徴を除いて、本質的な特徴だけを集めた状態にする手順\n",
    "#  * クラスを使ってオブジェクトをモデル化する際に不要な奉仕あを省略する"
   ]
  },
  {
   "cell_type": "code",
   "execution_count": 9,
   "metadata": {},
   "outputs": [
    {
     "name": "stdout",
     "output_type": "stream",
     "text": [
      "Hello, World!\n",
      "200\n",
      "200.1\n"
     ]
    },
    {
     "data": {
      "text/plain": [
       "float"
      ]
     },
     "execution_count": 9,
     "metadata": {},
     "output_type": "execute_result"
    }
   ],
   "source": [
    "# ポリモフィズム - 同じインターフェースでありながらデータ型に合わせて異なる動作をする機能\n",
    "# インターフェース = 関数やメソッド\n",
    "\n",
    "# print関数は、文字列・霊枢・。浮動小数点のどれでも同じインターフェースで動作する。\n",
    "\n",
    "print(\"Hello, World!\")\n",
    "print(200)\n",
    "print(200.1)\n",
    "\n",
    "type(\"Hello, World!\")\n",
    "type(200)\n",
    "type(200.1)\n"
   ]
  },
  {
   "cell_type": "code",
   "execution_count": 13,
   "metadata": {},
   "outputs": [
    {
     "name": "stdout",
     "output_type": "stream",
     "text": [
      "20 by 20\n"
     ]
    }
   ],
   "source": [
    "# 継承 - クラスを津y来るときにほかのクラスからメソッドや変数を受け継ぐ。\n",
    "\n",
    "class Shape:\n",
    "    def __init__(self, w, l):\n",
    "        self.width = w\n",
    "        self.len = l\n",
    "        \n",
    "    def print_size(self):\n",
    "        print(\"{} by {}\".format(self.width, self.len))\n",
    "\n",
    "# Shapeクラスの変数/メソッドを引き継ぐSqareクラス\n",
    "class Square(Shape):\n",
    "    pass\n",
    "\n",
    "a_square = Square(20 ,20)\n",
    "a_square.print_size()"
   ]
  },
  {
   "cell_type": "code",
   "execution_count": 14,
   "metadata": {},
   "outputs": [
    {
     "name": "stdout",
     "output_type": "stream",
     "text": [
      "400\n"
     ]
    }
   ],
   "source": [
    "class Shape:\n",
    "    def __init__(self, w, l):\n",
    "        self.width = w\n",
    "        self.len = l\n",
    "        \n",
    "    def print_size(self):\n",
    "        print(\"{} by {}\".format(self.width, self.len))\n",
    "\n",
    "# Shapeクラスの変数/メソッドを引き継ぐSquareクラス\n",
    "class Square(Shape):\n",
    "    def area(self):\n",
    "        return self.width * self.len\n",
    "    \n",
    "\n",
    "a_square = Square(20 ,20)\n",
    "print(a_square.area())"
   ]
  },
  {
   "cell_type": "code",
   "execution_count": 15,
   "metadata": {},
   "outputs": [
    {
     "name": "stdout",
     "output_type": "stream",
     "text": [
      "Mick Jagger\n"
     ]
    }
   ],
   "source": [
    "# コンポジション - 別クラスのオブジェクトを変数として持たせる\n",
    "#  「犬は一人の飼い主を持つ」\n",
    "\n",
    "class Dog:\n",
    "    def __init__(self, name, breed, owner):\n",
    "        self.name = name\n",
    "        self.breed = breed\n",
    "        self.owner = owner\n",
    "    \n",
    "class Person:\n",
    "    def __init__(self, name):\n",
    "        self.name = name\n",
    "\n",
    "mick = Person(\"Mick Jagger\")\n",
    "stan = Dog(\"Stanley\", \"Bulldog\", mick)\n",
    "print(stan.owner.name)"
   ]
  },
  {
   "cell_type": "code",
   "execution_count": 16,
   "metadata": {},
   "outputs": [
    {
     "name": "stdout",
     "output_type": "stream",
     "text": [
      "60\n",
      "40\n"
     ]
    }
   ],
   "source": [
    "##########  チャレンジ  ##########"
   ]
  },
  {
   "cell_type": "code",
   "execution_count": null,
   "metadata": {
    "collapsed": true
   },
   "outputs": [],
   "source": [
    "# 1. Rectangle と Squareクラスを作ろう。両方のクラスに、その図形の外周の長さを計算して返すcalculate_perimeterメソッドを定義しよう。\n",
    "class Rectangle:\n",
    "    def __init__(self, w, l):\n",
    "        self.width = w\n",
    "        self.len = l\n",
    "    \n",
    "    def calculate_perimeter(self):\n",
    "        return self.width * 2 + self.len * 2\n",
    "\n",
    "class Square:\n",
    "    def __init__(self, w):\n",
    "        self.width = w\n",
    "    \n",
    "    def calculate_perimeter(self):\n",
    "        return self.width * 4\n",
    "\n",
    "rec = Rectangle(10,20)\n",
    "squ = Square(10)\n",
    "print(rec.calculate_perimeter())\n",
    "print(squ.calculate_perimeter())"
   ]
  },
  {
   "cell_type": "code",
   "execution_count": 20,
   "metadata": {},
   "outputs": [
    {
     "name": "stdout",
     "output_type": "stream",
     "text": [
      "8\n"
     ]
    }
   ],
   "source": [
    "# 2.Squareクラスにchange_sizeメソッドを定義して、そこに渡した数値の分だけSquareオブジェクトの横幅を増やしたs理、減らしたりしてみよう。\n",
    "\n",
    "class Square:\n",
    "    def __init__(self, s):\n",
    "        self.side = s\n",
    "        \n",
    "    def change_size(self, c):\n",
    "        return self.side + c\n",
    "\n",
    "squ = Square(10)\n",
    "print(squ.change_size(-2))"
   ]
  },
  {
   "cell_type": "code",
   "execution_count": 28,
   "metadata": {},
   "outputs": [
    {
     "name": "stdout",
     "output_type": "stream",
     "text": [
      "Rectangle : I am a shape.\n",
      "Square : I am a shape.\n"
     ]
    }
   ],
   "source": [
    "# 3.Shapeクラスを定義しよう。呼ばれたら\"I am a shape\"を返すメソッドwhat_am_iを定義しよう。\n",
    "\n",
    "class Shape:\n",
    "    def __init__(self):\n",
    "        pass\n",
    "    \n",
    "    def what_am_i(self):\n",
    "        s = \"I am a shape.\"\n",
    "        return s\n",
    "\n",
    "\n",
    "class Rectangle(Shape):\n",
    "    def __init__(self, w, l):\n",
    "        self.width = w\n",
    "        self.len = l\n",
    "    \n",
    "    def calculate_perimeter(self):\n",
    "        return self.width * 2 + self.len * 2\n",
    "\n",
    "class Square(Shape):\n",
    "    def __init__(self, w):\n",
    "        self.width = w\n",
    "    \n",
    "    def calculate_perimeter(self):\n",
    "        return self.width * 4\n",
    "\n",
    "rec = Rectangle(10,20)\n",
    "print(\"{} : {}\".format(\"Rectangle\" , rec.what_am_i()))\n",
    "squ = Square(10)\n",
    "print(\"{} : {}\".format(\"Square\" , squ.what_am_i()))\n"
   ]
  },
  {
   "cell_type": "code",
   "execution_count": 30,
   "metadata": {},
   "outputs": [
    {
     "name": "stdout",
     "output_type": "stream",
     "text": [
      "Toru Oonishi\n"
     ]
    }
   ],
   "source": [
    "# 4. HorseクラスとRiderクラスを定義しよう。コンポジションを使って、馬に機種を持たせよう。\n",
    "\n",
    "class Horse:\n",
    "    def __init__(self, name, owner):\n",
    "        self.name = name\n",
    "        self.owner = owner\n",
    "\n",
    "class Person:\n",
    "    def __init__(self,name):\n",
    "        self.name = name\n",
    "\n",
    "toru = Person(\"Toru Oonishi\")        \n",
    "horse = Horse(\"yudusayu\",toru)\n",
    "print(horse.owner.name)\n"
   ]
  },
  {
   "cell_type": "code",
   "execution_count": null,
   "metadata": {
    "collapsed": true
   },
   "outputs": [],
   "source": []
  }
 ],
 "metadata": {
  "kernelspec": {
   "display_name": "Python 3",
   "language": "python",
   "name": "python3"
  },
  "language_info": {
   "codemirror_mode": {
    "name": "ipython",
    "version": 3
   },
   "file_extension": ".py",
   "mimetype": "text/x-python",
   "name": "python",
   "nbconvert_exporter": "python",
   "pygments_lexer": "ipython3",
   "version": "3.6.3"
  }
 },
 "nbformat": 4,
 "nbformat_minor": 2
}
