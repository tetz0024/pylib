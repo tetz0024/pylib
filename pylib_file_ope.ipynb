{
 "cells": [
  {
   "cell_type": "code",
   "execution_count": 2,
   "metadata": {},
   "outputs": [
    {
     "data": {
      "text/plain": [
       "'Users\\\\bob\\\\st.txt'"
      ]
     },
     "execution_count": 2,
     "metadata": {},
     "output_type": "execute_result"
    }
   ],
   "source": [
    "import os\n",
    "os.path.join(\"Users\",\"bob\",\"st.txt\")"
   ]
  },
  {
   "cell_type": "code",
   "execution_count": 3,
   "metadata": {
    "collapsed": true
   },
   "outputs": [],
   "source": [
    "# st.txtというファイルを開いて、\"Hi from Python\"を入力して閉じる（保存）\n",
    "import os\n",
    "\n",
    "st = open(\"st.txt\", \"w\")\n",
    "st.write(\"Hi from Python!\")\n",
    "st.close()"
   ]
  },
  {
   "cell_type": "code",
   "execution_count": 6,
   "metadata": {
    "collapsed": true
   },
   "outputs": [],
   "source": [
    "# st.txtというファイルを開いて、日本語文字列を入力して閉じる（保存）\n",
    "import os\n",
    "\n",
    "st = open(\"st_ja.txt\", \"w\", encoding=\"utf-8\")\n",
    "st.write(\"Pythonからこんにちは!\")\n",
    "st.close()"
   ]
  },
  {
   "cell_type": "code",
   "execution_count": 8,
   "metadata": {
    "collapsed": true
   },
   "outputs": [],
   "source": [
    "# ファイルを開いてから書き込み後に自動的に閉じる - with\n",
    "with open(\"st_with.txt\",\"w\") as f:\n",
    "    f.write(\"Hi from Python!\")"
   ]
  },
  {
   "cell_type": "code",
   "execution_count": 10,
   "metadata": {},
   "outputs": [
    {
     "name": "stdout",
     "output_type": "stream",
     "text": [
      "1 - Hi from Python!\n",
      "2 - Hi from Python!\n",
      "3 - Hi from Python!\n",
      "4 - Hi from Python!\n",
      "5 - Hi from Python!\n",
      "6 - Hi from Python!\n"
     ]
    }
   ],
   "source": [
    "# ファイルを読み込む\n",
    "with open(\"st.txt\",\"r\") as f:\n",
    "    print(f.read())"
   ]
  },
  {
   "cell_type": "code",
   "execution_count": 1,
   "metadata": {},
   "outputs": [
    {
     "name": "stdout",
     "output_type": "stream",
     "text": [
      "['1 - Hi from Python!\\n2 - Hi from Python!\\n3 - Hi from Python!\\n4 - Hi from Python!\\n5 - Hi from Python!\\n6 - Hi from Python!']\n"
     ]
    }
   ],
   "source": [
    "# ファイルから読み込んだ内容を変数に格納してprint\n",
    "\n",
    "my_list = []\n",
    "\n",
    "with open(\"st.txt\", \"r\") as f:\n",
    "    my_list.append(f.read())\n",
    "    \n",
    "print(my_list)"
   ]
  },
  {
   "cell_type": "code",
   "execution_count": 2,
   "metadata": {
    "collapsed": true
   },
   "outputs": [],
   "source": [
    "# csvモジュールを使用して、ファイルへ書き込む\n",
    "import csv\n",
    "\n",
    "with open(\"st.csv\",\"w\",newline=\"\") as f:\n",
    "    w = csv.writer(f, delimiter=\",\")\n",
    "    w.writerow([\"one\",\"two\",\"three\"])\n",
    "    w.writerow([\"four\",\"five\",\"six\"])\n",
    "    "
   ]
  },
  {
   "cell_type": "code",
   "execution_count": 5,
   "metadata": {},
   "outputs": [
    {
     "name": "stdout",
     "output_type": "stream",
     "text": [
      "one,two,three\n",
      "four,five,six\n"
     ]
    }
   ],
   "source": [
    "# ↑で作成したｃｓｖファイルの中身を読み込んでprint\n",
    "\n",
    "import csv\n",
    "\n",
    "with open(\"st.csv\",\"r\") as f:\n",
    "    r = csv.reader(f, delimiter= \",\")\n",
    "    for row in r:\n",
    "        print(\",\".join(row))\n"
   ]
  },
  {
   "cell_type": "code",
   "execution_count": null,
   "metadata": {
    "collapsed": true
   },
   "outputs": [],
   "source": [
    "################  チャレンジ  ################ "
   ]
  },
  {
   "cell_type": "code",
   "execution_count": 16,
   "metadata": {},
   "outputs": [
    {
     "name": "stdout",
     "output_type": "stream",
     "text": [
      "<generator object <genexpr> at 0x000001843E4070F8>\n"
     ]
    }
   ],
   "source": [
    "# 1. コンピュータにある何かのファイルをPythonで開いて、コンテンツを出力しよう。\n",
    "# 一旦リスト変数に格納してからprint\n",
    "my_list = []\n",
    "\n",
    "with open(\"st.txt\", \"r\") as f:\n",
    "     for line in f:\n",
    "        my_list.append(line)\n",
    "\n",
    "for r in my_list:\n",
    "    print(r)"
   ]
  },
  {
   "cell_type": "code",
   "execution_count": 32,
   "metadata": {},
   "outputs": [
    {
     "name": "stdout",
     "output_type": "stream",
     "text": [
      "氏名を入力してください。大西ユヅキ\n",
      "生年月日を入力してください。0308\n",
      "性別を入力してください。女性\n",
      "['大西ユヅキ', '0308', '女性']\n",
      "大西ユヅキ\n",
      "0308\n",
      "女性\n"
     ]
    }
   ],
   "source": [
    "# 2. 何か質問するプログラムを書こう。入力された回答をファイルに書き出そう\n",
    "\n",
    "ans_list = []\n",
    "\n",
    "ans_list.append(input(\"氏名を入力してください。\"))\n",
    "ans_list.append(input(\"生年月日を入力してください。\"))\n",
    "ans_list.append(input(\"性別を入力してください。\"))\n",
    "\n",
    "# 各回答を改行で区切って書き込み\n",
    "with open(\"ans.txt\",\"w\", encoding=\"utf-8\") as f:\n",
    "    f.write('\\n'.join(ans_list))\n",
    "\n",
    "# ↑で書き込んだ内容を読み込み\n",
    "with open(\"ans.txt\",\"r\", encoding=\"utf-8\") as f2:\n",
    "    print(f2.read())\n"
   ]
  },
  {
   "cell_type": "code",
   "execution_count": 33,
   "metadata": {},
   "outputs": [
    {
     "name": "stdout",
     "output_type": "stream",
     "text": [
      "Top Gun,Risky Business,Minority Report\n",
      "Titanic,The Revenant,Inception\n",
      "Training Day,Man on Fire,Flight\n",
      "\n"
     ]
    }
   ],
   "source": [
    "# 3. リストのリストに含まれる要素をcsvファイルに書き出そう。\n",
    "\n",
    "import csv\n",
    "\n",
    "movies_list = [[\"Top Gun\",\"Risky Business\",\"Minority Report\"],\n",
    "            [\"Titanic\",\"The Revenant\",\"Inception\"],\n",
    "            [\"Training Day\",\"Man on Fire\",\"Flight\"]]\n",
    "\n",
    "with open(\"movies.csv\",\"w\",newline=\"\") as f:\n",
    "    w = csv.writer(f, delimiter=\",\")\n",
    "    for movies in movies_list:\n",
    "        w.writerow(movies)\n",
    "\n",
    "with open(\"movies.csv\",\"r\", encoding=\"utf-8\") as f2:\n",
    "    print(f2.read())"
   ]
  },
  {
   "cell_type": "code",
   "execution_count": 34,
   "metadata": {},
   "outputs": [
    {
     "name": "stdout",
     "output_type": "stream",
     "text": [
      "トップガン,リスキービジネス,マイノリティレポート\n",
      "タイタニック,レべなんと,インセプション\n",
      "トレーニングデイ,マンオンファイヤ,フライト\n",
      "\n"
     ]
    }
   ],
   "source": [
    "# 4. チャレンジ3を日本語でやってみよう\n",
    "\n",
    "import csv\n",
    "\n",
    "movies_list = [[\"トップガン\",\"リスキービジネス\",\"マイノリティレポート\"],\n",
    "            [\"タイタニック\",\"レべなんと\",\"インセプション\"],\n",
    "            [\"トレーニングデイ\",\"マンオンファイヤ\",\"フライト\"]]\n",
    "\n",
    "with open(\"movies.csv\",\"w\",newline=\"\", encoding=\"utf-8\") as f:\n",
    "    w = csv.writer(f, delimiter=\",\")\n",
    "    for movies in movies_list:\n",
    "        w.writerow(movies)\n",
    "\n",
    "with open(\"movies.csv\",\"r\", encoding=\"utf-8\") as f2:\n",
    "    print(f2.read())"
   ]
  },
  {
   "cell_type": "code",
   "execution_count": null,
   "metadata": {
    "collapsed": true
   },
   "outputs": [],
   "source": []
  }
 ],
 "metadata": {
  "kernelspec": {
   "display_name": "Python 3",
   "language": "python",
   "name": "python3"
  },
  "language_info": {
   "codemirror_mode": {
    "name": "ipython",
    "version": 3
   },
   "file_extension": ".py",
   "mimetype": "text/x-python",
   "name": "python",
   "nbconvert_exporter": "python",
   "pygments_lexer": "ipython3",
   "version": "3.6.3"
  }
 },
 "nbformat": 4,
 "nbformat_minor": 2
}
