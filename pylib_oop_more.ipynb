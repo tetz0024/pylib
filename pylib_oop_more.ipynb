{
 "cells": [
  {
   "cell_type": "code",
   "execution_count": 1,
   "metadata": {},
   "outputs": [
    {
     "name": "stdout",
     "output_type": "stream",
     "text": [
      "10 by 24\n"
     ]
    }
   ],
   "source": [
    "###############  クラス変数 vs インスタンス変数  ###############"
   ]
  },
  {
   "cell_type": "code",
   "execution_count": null,
   "metadata": {
    "collapsed": true
   },
   "outputs": [],
   "source": [
    "# self.xxxx = インスタンス変数\n",
    "\n",
    "class Rectangle:\n",
    "    def __init__(self, w, l):\n",
    "        self.width = w\n",
    "        self.len = l\n",
    "    \n",
    "    def print_size(self):\n",
    "        print(\"{} by {}\".format(self.width, self.len))\n",
    "\n",
    "my_rectangle = Rectangle(10, 24)\n",
    "my_rectangle.print_size()"
   ]
  },
  {
   "cell_type": "code",
   "execution_count": 3,
   "metadata": {},
   "outputs": [
    {
     "name": "stdout",
     "output_type": "stream",
     "text": [
      "[(10, 24), (20, 40), (100, 200)]\n"
     ]
    }
   ],
   "source": [
    "# クラス変数\n",
    "\n",
    "class Rectangle:\n",
    "    \n",
    "    recs = []\n",
    "    \n",
    "    def __init__(self, w, l):\n",
    "        self.width = w\n",
    "        self.len = l\n",
    "        self.recs.append((self.width,self.len))\n",
    "        \n",
    "    def print_size(self):\n",
    "        print(\"{} by {}\".format(self.width, self.len))\n",
    "\n",
    "r1 = Rectangle(10,24)\n",
    "r2 = Rectangle(20,40)\n",
    "r3 = Rectangle(100,200)\n",
    "\n",
    "print(Rectangle.recs)"
   ]
  },
  {
   "cell_type": "code",
   "execution_count": 4,
   "metadata": {},
   "outputs": [
    {
     "name": "stdout",
     "output_type": "stream",
     "text": [
      "<__main__.Lion object at 0x000001BFCFDE30F0>\n"
     ]
    }
   ],
   "source": [
    "# 特殊メソッド - objectクラスのメソッドをオーバーライド（継承）したもの\n",
    "# pythonのすべてのクラスはobjectクラスを継承する\n",
    "\n",
    "class Lion:\n",
    "    def __init__(self,name):\n",
    "        self.name = name\n",
    "\n",
    "lion = Lion(\"Dilbert\")\n",
    "# Lionのオブジェクトをprint関数に渡すと、Pythonはobjectクラスから継承した__repr__という特殊メソッドを呼び出します。\n",
    "print(lion)"
   ]
  },
  {
   "cell_type": "code",
   "execution_count": 6,
   "metadata": {},
   "outputs": [
    {
     "name": "stdout",
     "output_type": "stream",
     "text": [
      "Dilbert\n"
     ]
    }
   ],
   "source": [
    "# __repr__メソッドをオーバーライド\n",
    "\n",
    "class Lion:\n",
    "    def __init__(self,name):\n",
    "        self.name = name\n",
    "\n",
    "    def __repr__(self):\n",
    "        return self.name\n",
    "        \n",
    "lion = Lion(\"Dilbert\")\n",
    "print(lion)"
   ]
  },
  {
   "cell_type": "code",
   "execution_count": 8,
   "metadata": {},
   "outputs": [
    {
     "name": "stdout",
     "output_type": "stream",
     "text": [
      "-10\n"
     ]
    }
   ],
   "source": [
    "# __add__メソッドをオーバーライド\n",
    "\n",
    "class AlwaysPositive:\n",
    "    def __init__(self,number):\n",
    "        self.n = number\n",
    "\n",
    "    def __add__(self, other):\n",
    "        return self.n + other.n\n",
    "        \n",
    "x = AlwaysPositive(-20)\n",
    "y = AlwaysPositive(10)\n",
    "print(x + y)\n"
   ]
  },
  {
   "cell_type": "code",
   "execution_count": 9,
   "metadata": {},
   "outputs": [
    {
     "name": "stdout",
     "output_type": "stream",
     "text": [
      "True\n",
      "False\n"
     ]
    }
   ],
   "source": [
    "class Person:\n",
    "    def __init__(self):\n",
    "        self.name = 'Bob'\n",
    "    \n",
    "bob = Person()\n",
    "same_bob = bob\n",
    "print(bob is same_bob)\n",
    "\n",
    "another_bob = Person()\n",
    "print(bob is another_bob)"
   ]
  },
  {
   "cell_type": "code",
   "execution_count": 12,
   "metadata": {},
   "outputs": [
    {
     "name": "stdout",
     "output_type": "stream",
     "text": [
      "x はNoneじゃない\n",
      "x はNone\n"
     ]
    }
   ],
   "source": [
    "x = 10\n",
    "if x is None:\n",
    "    print(\"x はNone:(　\")\n",
    "else:\n",
    "    print(\"x はNoneじゃない\")\n",
    "\n",
    "x = None\n",
    "if x is None:\n",
    "    print(\"x はNone\")\n",
    "else:\n",
    "    print(\"x はNoneじゃない:(　\")"
   ]
  },
  {
   "cell_type": "code",
   "execution_count": null,
   "metadata": {
    "collapsed": true
   },
   "outputs": [],
   "source": [
    "#################### チャレンジ　####################"
   ]
  },
  {
   "cell_type": "code",
   "execution_count": 14,
   "metadata": {},
   "outputs": [
    {
     "name": "stdout",
     "output_type": "stream",
     "text": [
      "[(10, 20), (20, 30)]\n"
     ]
    }
   ],
   "source": [
    "# 1. Squareクラスにsquare_listクラス変数を追加しよう。\n",
    "\n",
    "class Square:\n",
    "    \n",
    "    square_list = []\n",
    "    \n",
    "    def __init__(self, w, l):\n",
    "        self.width = w\n",
    "        self.len = l\n",
    "        self.square_list.append((self.width, self.len))\n",
    "\n",
    "squ1 = Square(10, 20)\n",
    "squ2 = Square(20, 30)\n",
    "print(Square.square_list)\n",
    "\n"
   ]
  },
  {
   "cell_type": "code",
   "execution_count": 18,
   "metadata": {},
   "outputs": [
    {
     "name": "stdout",
     "output_type": "stream",
     "text": [
      "29 by 29 by 29 by 29\n"
     ]
    }
   ],
   "source": [
    "# 2. Squareクラスのオブジェクトをprint関数に渡したら、4辺それぞれの長さを出力しよう。\n",
    "\n",
    "class Square:\n",
    "    def __init__(self, s):\n",
    "        self.side = s\n",
    "        \n",
    "    def __repr__(self):\n",
    "        return (\"{} by {} by {} by {}\".format(self.side, self.side, self.side, self.side ))\n",
    "\n",
    "squ = Square(29)\n",
    "print(squ)\n"
   ]
  },
  {
   "cell_type": "code",
   "execution_count": 20,
   "metadata": {},
   "outputs": [
    {
     "name": "stdout",
     "output_type": "stream",
     "text": [
      "True\n",
      "False\n"
     ]
    }
   ],
   "source": [
    "class Person():\n",
    "    def __init__(self,name):\n",
    "        self.name = name\n",
    "\n",
    "def Comp_person(ob1, ob2):\n",
    "    if ob1 is ob2:\n",
    "        return True\n",
    "    else:\n",
    "        return False\n",
    "\n",
    "tom = Person(\"Tom\")\n",
    "same_tom = tom\n",
    "bob = Person(\"Bob\")\n",
    "print(Comp_person(tom,same_tom))\n",
    "print(Comp_person(tom,bob))\n"
   ]
  },
  {
   "cell_type": "code",
   "execution_count": null,
   "metadata": {
    "collapsed": true
   },
   "outputs": [],
   "source": []
  }
 ],
 "metadata": {
  "kernelspec": {
   "display_name": "Python 3",
   "language": "python",
   "name": "python3"
  },
  "language_info": {
   "codemirror_mode": {
    "name": "ipython",
    "version": 3
   },
   "file_extension": ".py",
   "mimetype": "text/x-python",
   "name": "python",
   "nbconvert_exporter": "python",
   "pygments_lexer": "ipython3",
   "version": "3.6.3"
  }
 },
 "nbformat": 4,
 "nbformat_minor": 2
}
