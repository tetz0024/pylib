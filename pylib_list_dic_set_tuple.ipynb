{
 "cells": [
  {
   "cell_type": "code",
   "execution_count": 3,
   "metadata": {},
   "outputs": [
    {
     "name": "stdout",
     "output_type": "stream",
     "text": [
      "何色でしょう？（入力してください）：red\n",
      "当たり\n"
     ]
    }
   ],
   "source": [
    "colors =[\"purple\",\"orange\",\"green\"]\n",
    "guess = input(\"何色でしょう？（入力してください）：\")\n",
    "\n",
    "if guess not in colors:\n",
    "    print(\"当たり\")\n",
    "else:\n",
    "    print(\"ハズレ！\")\n"
   ]
  },
  {
   "cell_type": "code",
   "execution_count": 7,
   "metadata": {},
   "outputs": [
    {
     "data": {
      "text/plain": [
       "True"
      ]
     },
     "execution_count": 7,
     "metadata": {},
     "output_type": "execute_result"
    }
   ],
   "source": [
    "rndm = (\"M.jackson\",1958,True)\n",
    "1958 in rndm"
   ]
  },
  {
   "cell_type": "code",
   "execution_count": 11,
   "metadata": {},
   "outputs": [
    {
     "name": "stdout",
     "output_type": "stream",
     "text": [
      "数字を入力してください2\n",
      "blue\n"
     ]
    }
   ],
   "source": [
    "songs = {\"1\": \"fun\",\n",
    "        \"2\": \"blue\",\n",
    "        \"3\": \"me\",\n",
    "        \"4\": \"floor\",\n",
    "        \"5\": \"live\"\n",
    "        }\n",
    "n = input(\"数字を入力してください\")\n",
    "\n",
    "if n in songs:\n",
    "    song = songs[n]\n",
    "    print(song)\n",
    "else:\n",
    "    print(\"見つかりません\")"
   ]
  },
  {
   "cell_type": "code",
   "execution_count": 23,
   "metadata": {},
   "outputs": [
    {
     "name": "stdout",
     "output_type": "stream",
     "text": [
      "Mr.Children\n",
      "('tokyo', '137')\n",
      "JPY20,000,000\n"
     ]
    }
   ],
   "source": [
    "musicians = [\"B'Z\", \"Mr.Children\", \"よねづけんし\", \"アレキサンドロス\"]\n",
    "print(musicians[1])\n",
    "mytuple = (\"tokyo\",\"137\")\n",
    "print(mytuple)\n",
    "kval = {\"name\":\"Toru Oonishi\",\n",
    "        \"height\":175,\n",
    "        \"weight\":63,\n",
    "        \"job\":\"programmer\",\n",
    "        \"annual\": \"JPY20,000,000\"\n",
    "       }\n",
    "print(kval[\"annual\"])\n"
   ]
  },
  {
   "cell_type": "code",
   "execution_count": 28,
   "metadata": {},
   "outputs": [
    {
     "name": "stdout",
     "output_type": "stream",
     "text": [
      "ニューヨーク\n"
     ]
    }
   ],
   "source": [
    "# 二次元辞書\n",
    "ny = {\n",
    "    \"座標\" : (40.7128,74.0059),\n",
    "    \n",
    "    \"セレブ\":{\n",
    "        \"ウッディ・アレン\",\n",
    "        \"ジェイ・Z\",\n",
    "        \"ケヴィン・ベーコン\"\n",
    "    },\n",
    "    \n",
    "    \"事実\":{\n",
    "        \"州\": \"ニューヨーク\",\n",
    "        \"国\": \"アメリカ\"\n",
    "    }\n",
    "}\n",
    "print(ny[\"事実\"][\"州\"])\n"
   ]
  },
  {
   "cell_type": "code",
   "execution_count": 50,
   "metadata": {},
   "outputs": [
    {
     "name": "stdout",
     "output_type": "stream",
     "text": [
      "{'n', 'c', 'a', 'o'}\n",
      "['c', 'a', 'n', 'n', 'o', 'n']\n"
     ]
    }
   ],
   "source": [
    "#文字列のset（集合）を作ります。\n",
    "strings_set = set(\"cannon\")\n",
    "print(strings_set)\n",
    "\n",
    "#文字列のlist（配列）を作ります。\n",
    "strings_list = list(\"cannon\")\n",
    "print(strings_list)"
   ]
  },
  {
   "cell_type": "code",
   "execution_count": 1,
   "metadata": {},
   "outputs": [
    {
     "name": "stdout",
     "output_type": "stream",
     "text": [
      "集合 {512, 195, 421, 902, 999, 104, 592}\n",
      "集合 {512, 195, 421, 902, 999, 104, 456, 234, 592, 345, 123}\n",
      "ソート前 [512, 195, 421, 902, 999, 104, 592]\n",
      "ソート後 [104, 195, 421, 512, 592, 902, 999]\n"
     ]
    }
   ],
   "source": [
    "#set（集合）を作ります。\n",
    "data_set =  {104, 195, 195, 104, 512, 592, 902, 421}\n",
    "data_set.add(999)\n",
    "data_set2 = {123,234,345,456,104,902}\n",
    "print(\"集合\",data_set)\n",
    "data_uni = data_set.union(data_set2)\n",
    "print(\"集合\",data_uni)\n",
    "#list()関数を使ってset（集合）をリストに変換します。\n",
    "data_list = list(data_set)\n",
    "#確認しましょう。\n",
    "print(\"ソート前\",data_list)\n",
    "#sort()でソートします。\n",
    "data_list.sort()\n",
    "#確認しましょう。\n",
    "print(\"ソート後\",data_list)"
   ]
  },
  {
   "cell_type": "code",
   "execution_count": null,
   "metadata": {
    "collapsed": true
   },
   "outputs": [],
   "source": []
  }
 ],
 "metadata": {
  "kernelspec": {
   "display_name": "Python 3",
   "language": "python",
   "name": "python3"
  },
  "language_info": {
   "codemirror_mode": {
    "name": "ipython",
    "version": 3
   },
   "file_extension": ".py",
   "mimetype": "text/x-python",
   "name": "python",
   "nbconvert_exporter": "python",
   "pygments_lexer": "ipython3",
   "version": "3.6.3"
  }
 },
 "nbformat": 4,
 "nbformat_minor": 2
}
