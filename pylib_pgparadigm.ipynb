{
 "cells": [
  {
   "cell_type": "code",
   "execution_count": 2,
   "metadata": {},
   "outputs": [
    {
     "name": "stdout",
     "output_type": "stream",
     "text": [
      "14\n"
     ]
    }
   ],
   "source": [
    "# 手続き型プログラミング1\n",
    "x = 2\n",
    "y = 4\n",
    "z = 8\n",
    "xyz = x + y + z\n",
    "print(xyz)"
   ]
  },
  {
   "cell_type": "code",
   "execution_count": 3,
   "metadata": {},
   "outputs": [
    {
     "name": "stdout",
     "output_type": "stream",
     "text": [
      "pかjのどちらかを入力してください。qで終わります：p\n",
      "曲名を入力してください：aaaa\n",
      "pかjのどちらかを入力してください。qで終わります：j\n",
      "曲名を入力してください：dddd\n",
      "pかjのどちらかを入力してください。qで終わります：q\n",
      "pop songs:  ['aaaa']\n",
      "jpop songs:  ['dddd']\n"
     ]
    }
   ],
   "source": [
    "# 手続き型プログラミング2\n",
    "pop = []\n",
    "jpop = []\n",
    "\n",
    "def collect_songs():\n",
    "    song = \"曲名を入力してください：\"\n",
    "    ask = \"pかjのどちらかを入力してください。qで終わります：\"\n",
    "    \n",
    "    while True:\n",
    "        genre = input(ask)\n",
    "        if genre == \"q\":\n",
    "            break\n",
    "            \n",
    "        if genre == \"p\":\n",
    "            p = input(song)\n",
    "            pop.append(p)\n",
    "        \n",
    "        elif genre == \"j\":\n",
    "            j = input(song)\n",
    "            jpop.append(j)\n",
    "            \n",
    "        else:\n",
    "          print(\"不正な値です。\")\n",
    "    \n",
    "    print(\"pop songs: \", pop)\n",
    "    print(\"jpop songs: \", jpop)\n",
    "\n",
    "collect_songs()\n",
    "    "
   ]
  },
  {
   "cell_type": "code",
   "execution_count": 6,
   "metadata": {},
   "outputs": [
    {
     "name": "stdout",
     "output_type": "stream",
     "text": [
      "3\n"
     ]
    }
   ],
   "source": [
    "# 手続き型プログラミング3\n",
    "# 副作用あり\n",
    "\n",
    "a = 2\n",
    "\n",
    "def increment():\n",
    "    global a\n",
    "    a += 1\n",
    "\n",
    "increment()\n",
    "print(a)"
   ]
  },
  {
   "cell_type": "code",
   "execution_count": 8,
   "metadata": {},
   "outputs": [
    {
     "data": {
      "text/plain": [
       "2"
      ]
     },
     "execution_count": 8,
     "metadata": {},
     "output_type": "execute_result"
    }
   ],
   "source": [
    "# 関数型プログラミング\n",
    "# 副作用なし\n",
    "\n",
    "def increment(a):\n",
    "    return a + 1\n",
    "\n",
    "increment(1)"
   ]
  },
  {
   "cell_type": "code",
   "execution_count": 20,
   "metadata": {},
   "outputs": [],
   "source": [
    "# オブジェクト指向プログラミング1\n",
    "# 特殊メソッド init\n",
    "\n",
    "class Orange:\n",
    "    def __init__(self):\n",
    "        print(\"Created!\")\n",
    "\n",
    "or1 = Orange"
   ]
  },
  {
   "cell_type": "code",
   "execution_count": 13,
   "metadata": {
    "collapsed": true
   },
   "outputs": [],
   "source": [
    "# オブジェクト指向プログラミング2\n",
    "\n",
    "class Orange:\n",
    "    def __init__(self,w,c):\n",
    "        self.weight = w\n",
    "        self.color = c\n",
    "        print(\"Created!\")"
   ]
  },
  {
   "cell_type": "code",
   "execution_count": 18,
   "metadata": {},
   "outputs": [
    {
     "name": "stdout",
     "output_type": "stream",
     "text": [
      "Created!\n",
      "<__main__.Orange object at 0x0000022C53247DD8>\n",
      "10\n",
      "dark orange\n"
     ]
    }
   ],
   "source": [
    "# オブジェクト指向プログラミング3\n",
    "\n",
    "class Orange:\n",
    "    def __init__(self, w, c):\n",
    "        self.weight = w\n",
    "        self.color = c\n",
    "        print(\"Created!\")\n",
    "\n",
    "or1 = Orange(10,\"dark orange\")\n",
    "print(or1)\n",
    "print(or1.weight)\n",
    "print(or1.color)"
   ]
  },
  {
   "cell_type": "code",
   "execution_count": 19,
   "metadata": {},
   "outputs": [
    {
     "name": "stdout",
     "output_type": "stream",
     "text": [
      "Created!\n",
      "Created!\n",
      "Created!\n"
     ]
    }
   ],
   "source": [
    "# オブジェクト指向プログラミング4\n",
    "\n",
    "class Orange:\n",
    "    def __init__(self, w, c):\n",
    "        self.weight = w\n",
    "        self.color = c\n",
    "        print(\"Created!\")\n",
    "\n",
    "or1 = Orange(4,\"light orange\")\n",
    "or2 = Orange(8,\"dark orange\")\n",
    "or3 = Orange(14,\"yellow\")\n"
   ]
  },
  {
   "cell_type": "code",
   "execution_count": 22,
   "metadata": {},
   "outputs": [
    {
     "name": "stdout",
     "output_type": "stream",
     "text": [
      "Created!\n",
      "0\n",
      "170\n"
     ]
    }
   ],
   "source": [
    "# オブジェクト指向プログラミング5\n",
    "\n",
    "class Orange:\n",
    "    def __init__(self, w, c):\n",
    "        \"\"\"weight(重さ)はグラム\"\"\"\n",
    "        self.weight = w\n",
    "        self.color = c\n",
    "        self.mold = 0\n",
    "        print(\"Created!\")\n",
    "    \n",
    "    def rot(self,days, temp):\n",
    "        \"\"\"temp(温度)は摂氏\"\"\"\n",
    "        self.mold = days * temp\n",
    "\n",
    "orange = Orange(200,\"orange\")\n",
    "print(orange.mold)\n",
    "orange.rot(10,17)\n",
    "print(orange.mold)"
   ]
  },
  {
   "cell_type": "code",
   "execution_count": 24,
   "metadata": {},
   "outputs": [
    {
     "name": "stdout",
     "output_type": "stream",
     "text": [
      "200\n",
      "800\n"
     ]
    }
   ],
   "source": [
    "# オブジェクト指向プログラミング6\n",
    "\n",
    "class Rectangle:\n",
    "    def __init__(self, w, l):\n",
    "        self.width = w\n",
    "        self.len = l\n",
    "        \n",
    "    def area(self):\n",
    "        return self.width * self.len\n",
    "    \n",
    "    def change_size(self, w, l):\n",
    "        self.width = w\n",
    "        self.len = l\n",
    "\n",
    "    \n",
    "rectangle = Rectangle(10, 20)\n",
    "print(rectangle.area())\n",
    "rectangle.change_size(20, 40)\n",
    "print(rectangle.area())"
   ]
  },
  {
   "cell_type": "code",
   "execution_count": null,
   "metadata": {
    "collapsed": true
   },
   "outputs": [],
   "source": [
    "##############  チャレンジ  ##############"
   ]
  },
  {
   "cell_type": "code",
   "execution_count": 26,
   "metadata": {},
   "outputs": [
    {
     "name": "stdout",
     "output_type": "stream",
     "text": [
      "100\n",
      "red\n",
      "ふじ\n",
      "30\n"
     ]
    }
   ],
   "source": [
    "# 1. リンゴと言われて思い浮かぶ4つの属性を考えよう。\n",
    "\n",
    "class Apple:\n",
    "    def __init__(self,weight,color,kind,sugar):\n",
    "        self.weight = weight\n",
    "        self.color = color\n",
    "        self.kind = kind\n",
    "        self.sugar = sugar\n",
    "\n",
    "a = Apple(100,\"red\",\"ふじ\",30)\n",
    "print(a.weight)\n",
    "print(a.color)\n",
    "print(a.kind)\n",
    "print(a.sugar)"
   ]
  },
  {
   "cell_type": "code",
   "execution_count": 32,
   "metadata": {},
   "outputs": [
    {
     "name": "stdout",
     "output_type": "stream",
     "text": [
      "28.274333882308138\n"
     ]
    }
   ],
   "source": [
    "# 円を表すCiircleクラスを定義しよう、そのクラスに、面積を計算して変えすメソッドareaを持たせよう。\n",
    "import math\n",
    "\n",
    "class Circle:\n",
    "    def __init__(self, radius):\n",
    "        self.radius = radius\n",
    "\n",
    "    def area(self):\n",
    "        return (self.radius**2 * math.pi)\n",
    "\n",
    "ci = Circle(3)\n",
    "print(ci.area())"
   ]
  },
  {
   "cell_type": "code",
   "execution_count": 33,
   "metadata": {},
   "outputs": [
    {
     "name": "stdout",
     "output_type": "stream",
     "text": [
      "7.5\n"
     ]
    }
   ],
   "source": [
    "# 3．三角形を表すTriagleクラスを定義して、面積を返すareaメソッドを持たせよう。\n",
    "\n",
    "class Triangle:\n",
    "    def __init__(self, b, h):\n",
    "        self.bottom = b\n",
    "        self.height = h\n",
    "    \n",
    "    def area(self):\n",
    "        return self.bottom * self.height / 2\n",
    "\n",
    "tri = Triangle(3,5)\n",
    "print(tri.area())"
   ]
  },
  {
   "cell_type": "code",
   "execution_count": 35,
   "metadata": {},
   "outputs": [
    {
     "name": "stdout",
     "output_type": "stream",
     "text": [
      "24\n"
     ]
    }
   ],
   "source": [
    "# 4．六角形を表すHexagonクラスを定義しよう。\n",
    "\n",
    "class Hexagon:\n",
    "    def __init__(self, s):\n",
    "        self.side = s\n",
    "    \n",
    "    def calculate_perimeter(self):\n",
    "        return self.side * 6\n",
    "\n",
    "hex = Hexagon(4)\n",
    "print(hex.calculate_perimeter())"
   ]
  },
  {
   "cell_type": "code",
   "execution_count": null,
   "metadata": {
    "collapsed": true
   },
   "outputs": [],
   "source": []
  }
 ],
 "metadata": {
  "kernelspec": {
   "display_name": "Python 3",
   "language": "python",
   "name": "python3"
  },
  "language_info": {
   "codemirror_mode": {
    "name": "ipython",
    "version": 3
   },
   "file_extension": ".py",
   "mimetype": "text/x-python",
   "name": "python",
   "nbconvert_exporter": "python",
   "pygments_lexer": "ipython3",
   "version": "3.6.3"
  }
 },
 "nbformat": 4,
 "nbformat_minor": 2
}
